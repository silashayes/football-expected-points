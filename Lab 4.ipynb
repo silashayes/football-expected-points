{
 "cells": [
  {
   "cell_type": "code",
   "execution_count": 1,
   "id": "8d344c9f",
   "metadata": {},
   "outputs": [],
   "source": [
    "import pandas as pd\n",
    "import numpy as np\n",
    "from scipy.special import softmax\n",
    "import scipy.stats as st"
   ]
  },
  {
   "cell_type": "markdown",
   "id": "64e8aaae",
   "metadata": {},
   "source": [
    "# 2. Markov Metaphor"
   ]
  },
  {
   "cell_type": "markdown",
   "id": "14d3acdb",
   "metadata": {},
   "source": [
    "I like to think of the Markov chain probabilities as the percentage of fans that leave one team for another after the two teams play. With that in mind, each game actually becomes two probabilities. One of the probabilities is the percentage of fans that left the losing team for the winning team, and the other, much lower, probability is the percentage of fans that left the winning team for the losing team. In this fashion, each game provides as much information as possible for the rankings. This is also easier to conceptualize than the Stanley Cup model that we talked about in class since the values in the transition matrix are, by necessity, probabilities and not binary like in the cup model. This also allows for the alpha values to be conceptualized more easily. For example, even though UVA may never play Oregon, there is a slight percentage of UVA fans who could leave UVA for Oregon on any given week/game and vice versa. The same is true for every single team combination, so our transition matrix reflects that."
   ]
  },
  {
   "cell_type": "markdown",
   "id": "bb87d25d",
   "metadata": {},
   "source": [
    "## Clean & Create Columns for Ranking"
   ]
  },
  {
   "cell_type": "code",
   "execution_count": 2,
   "id": "c47435d7",
   "metadata": {},
   "outputs": [
    {
     "data": {
      "text/html": [
       "<div>\n",
       "<style scoped>\n",
       "    .dataframe tbody tr th:only-of-type {\n",
       "        vertical-align: middle;\n",
       "    }\n",
       "\n",
       "    .dataframe tbody tr th {\n",
       "        vertical-align: top;\n",
       "    }\n",
       "\n",
       "    .dataframe thead th {\n",
       "        text-align: right;\n",
       "    }\n",
       "</style>\n",
       "<table border=\"1\" class=\"dataframe\">\n",
       "  <thead>\n",
       "    <tr style=\"text-align: right;\">\n",
       "      <th></th>\n",
       "      <th>Winner</th>\n",
       "      <th>Pts_winner</th>\n",
       "      <th>X8</th>\n",
       "      <th>Loser</th>\n",
       "      <th>Pts_loser</th>\n",
       "    </tr>\n",
       "  </thead>\n",
       "  <tbody>\n",
       "    <tr>\n",
       "      <th>0</th>\n",
       "      <td>Florida</td>\n",
       "      <td>24</td>\n",
       "      <td>N</td>\n",
       "      <td>Miami (FL)</td>\n",
       "      <td>20</td>\n",
       "    </tr>\n",
       "    <tr>\n",
       "      <th>1</th>\n",
       "      <td>Hawaii</td>\n",
       "      <td>45</td>\n",
       "      <td>NaN</td>\n",
       "      <td>Arizona</td>\n",
       "      <td>38</td>\n",
       "    </tr>\n",
       "    <tr>\n",
       "      <th>2</th>\n",
       "      <td>Alabama-Birmingham</td>\n",
       "      <td>24</td>\n",
       "      <td>NaN</td>\n",
       "      <td>Alabama State</td>\n",
       "      <td>19</td>\n",
       "    </tr>\n",
       "    <tr>\n",
       "      <th>3</th>\n",
       "      <td>Arizona State</td>\n",
       "      <td>30</td>\n",
       "      <td>NaN</td>\n",
       "      <td>Kent State</td>\n",
       "      <td>7</td>\n",
       "    </tr>\n",
       "    <tr>\n",
       "      <th>4</th>\n",
       "      <td>Bowling Green State</td>\n",
       "      <td>46</td>\n",
       "      <td>NaN</td>\n",
       "      <td>Morgan State</td>\n",
       "      <td>3</td>\n",
       "    </tr>\n",
       "  </tbody>\n",
       "</table>\n",
       "</div>"
      ],
      "text/plain": [
       "                Winner  Pts_winner   X8          Loser  Pts_loser\n",
       "0              Florida          24    N     Miami (FL)         20\n",
       "1               Hawaii          45  NaN        Arizona         38\n",
       "2   Alabama-Birmingham          24  NaN  Alabama State         19\n",
       "3        Arizona State          30  NaN     Kent State          7\n",
       "4  Bowling Green State          46  NaN   Morgan State          3"
      ]
     },
     "execution_count": 2,
     "metadata": {},
     "output_type": "execute_result"
    }
   ],
   "source": [
    "scores = pd.read_csv('SB_box_scores_2019_without_rank.csv').drop(['Wk', 'Date', 'Rk', 'Time', 'Day', 'Notes'], axis=1)\n",
    "scores.head()"
   ]
  },
  {
   "cell_type": "code",
   "execution_count": 3,
   "id": "c44524cd",
   "metadata": {},
   "outputs": [
    {
     "data": {
      "text/plain": [
       "@    287\n",
       "N     60\n",
       "Name: X8, dtype: int64"
      ]
     },
     "execution_count": 3,
     "metadata": {},
     "output_type": "execute_result"
    }
   ],
   "source": [
    "scores.X8.value_counts()"
   ]
  },
  {
   "cell_type": "code",
   "execution_count": 4,
   "id": "19d866d7",
   "metadata": {},
   "outputs": [
    {
     "data": {
      "text/plain": [
       "H    541\n",
       "A    287\n",
       "N     60\n",
       "Name: X8, dtype: int64"
      ]
     },
     "execution_count": 4,
     "metadata": {},
     "output_type": "execute_result"
    }
   ],
   "source": [
    "#remap home, away, and neutral games\n",
    "scores['X8'] = scores.X8.map({'N':'N', '@':'A', np.nan:'H'})\n",
    "scores.X8.value_counts()"
   ]
  },
  {
   "cell_type": "code",
   "execution_count": 5,
   "id": "ce818c55",
   "metadata": {},
   "outputs": [
    {
     "data": {
      "text/html": [
       "<div>\n",
       "<style scoped>\n",
       "    .dataframe tbody tr th:only-of-type {\n",
       "        vertical-align: middle;\n",
       "    }\n",
       "\n",
       "    .dataframe tbody tr th {\n",
       "        vertical-align: top;\n",
       "    }\n",
       "\n",
       "    .dataframe thead th {\n",
       "        text-align: right;\n",
       "    }\n",
       "</style>\n",
       "<table border=\"1\" class=\"dataframe\">\n",
       "  <thead>\n",
       "    <tr style=\"text-align: right;\">\n",
       "      <th></th>\n",
       "      <th>Winner</th>\n",
       "      <th>Pts_winner</th>\n",
       "      <th>X8</th>\n",
       "      <th>Loser</th>\n",
       "      <th>Pts_loser</th>\n",
       "    </tr>\n",
       "  </thead>\n",
       "  <tbody>\n",
       "    <tr>\n",
       "      <th>0</th>\n",
       "      <td>Florida</td>\n",
       "      <td>24</td>\n",
       "      <td>N</td>\n",
       "      <td>Miami (FL)</td>\n",
       "      <td>20</td>\n",
       "    </tr>\n",
       "    <tr>\n",
       "      <th>1</th>\n",
       "      <td>Hawaii</td>\n",
       "      <td>45</td>\n",
       "      <td>H</td>\n",
       "      <td>Arizona</td>\n",
       "      <td>38</td>\n",
       "    </tr>\n",
       "    <tr>\n",
       "      <th>2</th>\n",
       "      <td>Alabama-Birmingham</td>\n",
       "      <td>24</td>\n",
       "      <td>H</td>\n",
       "      <td>Alabama State</td>\n",
       "      <td>19</td>\n",
       "    </tr>\n",
       "    <tr>\n",
       "      <th>3</th>\n",
       "      <td>Arizona State</td>\n",
       "      <td>30</td>\n",
       "      <td>H</td>\n",
       "      <td>Kent State</td>\n",
       "      <td>7</td>\n",
       "    </tr>\n",
       "    <tr>\n",
       "      <th>4</th>\n",
       "      <td>Bowling Green State</td>\n",
       "      <td>46</td>\n",
       "      <td>H</td>\n",
       "      <td>Morgan State</td>\n",
       "      <td>3</td>\n",
       "    </tr>\n",
       "  </tbody>\n",
       "</table>\n",
       "</div>"
      ],
      "text/plain": [
       "                Winner  Pts_winner X8          Loser  Pts_loser\n",
       "0              Florida          24  N     Miami (FL)         20\n",
       "1               Hawaii          45  H        Arizona         38\n",
       "2   Alabama-Birmingham          24  H  Alabama State         19\n",
       "3        Arizona State          30  H     Kent State          7\n",
       "4  Bowling Green State          46  H   Morgan State          3"
      ]
     },
     "execution_count": 5,
     "metadata": {},
     "output_type": "execute_result"
    }
   ],
   "source": [
    "scores.head()"
   ]
  },
  {
   "cell_type": "code",
   "execution_count": 6,
   "id": "cc6a1e0d",
   "metadata": {},
   "outputs": [
    {
     "data": {
      "text/plain": [
       "217"
      ]
     },
     "execution_count": 6,
     "metadata": {},
     "output_type": "execute_result"
    }
   ],
   "source": [
    "#get a list of teams\n",
    "teams = pd.Series(pd.Series(scores.Winner.unique()).append(pd.Series(scores.Loser.unique()))).unique()\n",
    "len(teams)"
   ]
  },
  {
   "cell_type": "markdown",
   "id": "f64f3324",
   "metadata": {},
   "source": [
    "# 3. Calculating Probabilities"
   ]
  },
  {
   "cell_type": "markdown",
   "id": "580c19c7",
   "metadata": {},
   "source": [
    "I have chosen to calculate my probabilities based on the score differential of each game. This does come with some imperfections. The main two that I would take into account in the future are blowout games and home and away status. Blowout games can result in very different probabilities of victory in a model based on score differential as a game won by 52 is valued a lot more than a game won by 42, even though both are sure victories. Potentially introducing a cap on score differential might alleviate this, or transforming score differential with a log function or an exponential function with a power less than 1 could as well. If I had more time, I would also like to factor home and away status into the calculation somehow, as teams have an advantage at home and the rankings should reflect that."
   ]
  },
  {
   "cell_type": "code",
   "execution_count": 7,
   "id": "4f81e056",
   "metadata": {},
   "outputs": [],
   "source": [
    "#get the score differential of each game\n",
    "scores['Score_diff'] = scores['Pts_winner'] - scores['Pts_loser']"
   ]
  },
  {
   "cell_type": "code",
   "execution_count": 8,
   "id": "118f3b35",
   "metadata": {},
   "outputs": [
    {
     "data": {
      "text/plain": [
       "<AxesSubplot:>"
      ]
     },
     "execution_count": 8,
     "metadata": {},
     "output_type": "execute_result"
    },
    {
     "data": {
      "image/png": "[encoded data removed]",
      "text/plain": [
       "<Figure size 432x288 with 1 Axes>"
      ]
     },
     "metadata": {
      "needs_background": "light"
     },
     "output_type": "display_data"
    }
   ],
   "source": [
    "scores.Score_diff.hist()"
   ]
  },
  {
   "cell_type": "code",
   "execution_count": 9,
   "id": "146cc7f4",
   "metadata": {},
   "outputs": [],
   "source": [
    "#obtain the two values that we will use to calculate our probabilities\n",
    "scores['Softmax'] = softmax(scores.Score_diff)\n",
    "scores['Prop'] = scores.Score_diff / sum(scores.Score_diff)"
   ]
  },
  {
   "cell_type": "code",
   "execution_count": 10,
   "id": "8e8b0cb0",
   "metadata": {},
   "outputs": [
    {
     "data": {
      "text/html": [
       "<div>\n",
       "<style scoped>\n",
       "    .dataframe tbody tr th:only-of-type {\n",
       "        vertical-align: middle;\n",
       "    }\n",
       "\n",
       "    .dataframe tbody tr th {\n",
       "        vertical-align: top;\n",
       "    }\n",
       "\n",
       "    .dataframe thead th {\n",
       "        text-align: right;\n",
       "    }\n",
       "</style>\n",
       "<table border=\"1\" class=\"dataframe\">\n",
       "  <thead>\n",
       "    <tr style=\"text-align: right;\">\n",
       "      <th></th>\n",
       "      <th>Winner</th>\n",
       "      <th>Pts_winner</th>\n",
       "      <th>X8</th>\n",
       "      <th>Loser</th>\n",
       "      <th>Pts_loser</th>\n",
       "      <th>Score_diff</th>\n",
       "      <th>Softmax</th>\n",
       "      <th>Prop</th>\n",
       "    </tr>\n",
       "  </thead>\n",
       "  <tbody>\n",
       "    <tr>\n",
       "      <th>0</th>\n",
       "      <td>Florida</td>\n",
       "      <td>24</td>\n",
       "      <td>N</td>\n",
       "      <td>Miami (FL)</td>\n",
       "      <td>20</td>\n",
       "      <td>4</td>\n",
       "      <td>2.673508e-33</td>\n",
       "      <td>0.000236</td>\n",
       "    </tr>\n",
       "    <tr>\n",
       "      <th>1</th>\n",
       "      <td>Hawaii</td>\n",
       "      <td>45</td>\n",
       "      <td>H</td>\n",
       "      <td>Arizona</td>\n",
       "      <td>38</td>\n",
       "      <td>7</td>\n",
       "      <td>5.369884e-32</td>\n",
       "      <td>0.000412</td>\n",
       "    </tr>\n",
       "    <tr>\n",
       "      <th>2</th>\n",
       "      <td>Alabama-Birmingham</td>\n",
       "      <td>24</td>\n",
       "      <td>H</td>\n",
       "      <td>Alabama State</td>\n",
       "      <td>19</td>\n",
       "      <td>5</td>\n",
       "      <td>7.267347e-33</td>\n",
       "      <td>0.000295</td>\n",
       "    </tr>\n",
       "    <tr>\n",
       "      <th>3</th>\n",
       "      <td>Arizona State</td>\n",
       "      <td>30</td>\n",
       "      <td>H</td>\n",
       "      <td>Kent State</td>\n",
       "      <td>7</td>\n",
       "      <td>23</td>\n",
       "      <td>4.771738e-25</td>\n",
       "      <td>0.001355</td>\n",
       "    </tr>\n",
       "    <tr>\n",
       "      <th>4</th>\n",
       "      <td>Bowling Green State</td>\n",
       "      <td>46</td>\n",
       "      <td>H</td>\n",
       "      <td>Morgan State</td>\n",
       "      <td>3</td>\n",
       "      <td>43</td>\n",
       "      <td>2.315081e-16</td>\n",
       "      <td>0.002534</td>\n",
       "    </tr>\n",
       "  </tbody>\n",
       "</table>\n",
       "</div>"
      ],
      "text/plain": [
       "                Winner  Pts_winner X8          Loser  Pts_loser  Score_diff  \\\n",
       "0              Florida          24  N     Miami (FL)         20           4   \n",
       "1               Hawaii          45  H        Arizona         38           7   \n",
       "2   Alabama-Birmingham          24  H  Alabama State         19           5   \n",
       "3        Arizona State          30  H     Kent State          7          23   \n",
       "4  Bowling Green State          46  H   Morgan State          3          43   \n",
       "\n",
       "        Softmax      Prop  \n",
       "0  2.673508e-33  0.000236  \n",
       "1  5.369884e-32  0.000412  \n",
       "2  7.267347e-33  0.000295  \n",
       "3  4.771738e-25  0.001355  \n",
       "4  2.315081e-16  0.002534  "
      ]
     },
     "execution_count": 10,
     "metadata": {},
     "output_type": "execute_result"
    }
   ],
   "source": [
    "scores.head(5)"
   ]
  },
  {
   "cell_type": "code",
   "execution_count": 11,
   "id": "db5f8fcf",
   "metadata": {},
   "outputs": [
    {
     "name": "stdout",
     "output_type": "stream",
     "text": [
      "count    8.880000e+02\n",
      "mean     1.126126e-03\n",
      "std      3.349349e-02\n",
      "min      1.331061e-34\n",
      "25%      5.369884e-32\n",
      "50%      4.351262e-28\n",
      "75%      1.925056e-22\n",
      "max      9.980851e-01\n",
      "Name: Softmax, dtype: float64\n"
     ]
    },
    {
     "data": {
      "text/plain": [
       "<AxesSubplot:>"
      ]
     },
     "execution_count": 11,
     "metadata": {},
     "output_type": "execute_result"
    },
    {
     "data": {
      "image/png": "[encoded data removed]",
      "text/plain": [
       "<Figure size 432x288 with 1 Axes>"
      ]
     },
     "metadata": {
      "needs_background": "light"
     },
     "output_type": "display_data"
    }
   ],
   "source": [
    "print(scores.Softmax.describe())\n",
    "scores.Softmax.hist(bins=10)"
   ]
  },
  {
   "cell_type": "code",
   "execution_count": 12,
   "id": "b1d9c96b",
   "metadata": {},
   "outputs": [
    {
     "name": "stdout",
     "output_type": "stream",
     "text": [
      "count    888.000000\n",
      "mean       0.001126\n",
      "std        0.000881\n",
      "min        0.000059\n",
      "25%        0.000412\n",
      "50%        0.000943\n",
      "75%        0.001709\n",
      "max        0.004655\n",
      "Name: Prop, dtype: float64\n"
     ]
    },
    {
     "data": {
      "text/plain": [
       "<AxesSubplot:>"
      ]
     },
     "execution_count": 12,
     "metadata": {},
     "output_type": "execute_result"
    },
    {
     "data": {
      "image/png": "[encoded data removed]",
      "text/plain": [
       "<Figure size 432x288 with 1 Axes>"
      ]
     },
     "metadata": {
      "needs_background": "light"
     },
     "output_type": "display_data"
    }
   ],
   "source": [
    "print(scores.Prop.describe())\n",
    "scores.Prop.hist(bins=20)"
   ]
  },
  {
   "cell_type": "markdown",
   "id": "55b7ed17",
   "metadata": {},
   "source": [
    "# 3 & 4. Calculating Probabilities & Irreducibility"
   ]
  },
  {
   "cell_type": "markdown",
   "id": "f85eacc1",
   "metadata": {},
   "source": [
    "The code below actually calculates the transition matrix probabilities based on either the score differential proportion or the score differential softmax values. It then places an alpha value of your choice in every matchup for which we do not have information. This ensures that the transition matrix will be able to reach a steady state and won't enter into a loop, making it irreducible."
   ]
  },
  {
   "cell_type": "markdown",
   "id": "a23a2ce6",
   "metadata": {},
   "source": [
    "## Functions for Ranking Calculation"
   ]
  },
  {
   "cell_type": "code",
   "execution_count": 13,
   "id": "a16546ba",
   "metadata": {},
   "outputs": [],
   "source": [
    "def matrix_maker(df, col, alpha):\n",
    "    #create an empty matrix\n",
    "    trans_matrix = pd.DataFrame(np.nan, index=teams, columns=teams)\n",
    "    #obtain the z score of each value in order to slightly normalize the rankings\n",
    "    z = st.zscore(df[col])\n",
    "    #calculate the cdf of the z scores to get a probability of victory, divide by 2\n",
    "    z_probs = st.norm.cdf(z) / 2\n",
    "    df['z_probs'] = z_probs\n",
    "    \n",
    "    #input the above probability of victory and its complement into the correct locations, ensuring the winner's\n",
    "    #probability is above .5 while the loser's is below .5\n",
    "    for i, row in df.iterrows():\n",
    "        trans_matrix.loc[row.Winner, row.Loser] = 0.5 + row.z_probs\n",
    "        trans_matrix.loc[row.Loser, row.Winner] = 1 - (row.z_probs + 0.5)\n",
    "    \n",
    "    #normalize the matrix so each column sums to 1\n",
    "    for i in trans_matrix:\n",
    "        trans_matrix[i] = trans_matrix[i] / trans_matrix[i].sum(axis=0)\n",
    "\n",
    "    teams_n = len(df)\n",
    "    \n",
    "    #input our alpha values into the matrix\n",
    "    for i in trans_matrix:\n",
    "        team = trans_matrix[i]\n",
    "        #how many games have to get probabilities? how many don't?\n",
    "        to_fill = sum(team.isna())\n",
    "        games = sum(team.notnull())\n",
    "        #how much probability will we give to other games?\n",
    "        filled_prob = alpha * to_fill\n",
    "        #subtract how much you filled from the games that you didn't have to fill in equal proportion\n",
    "        trans_matrix[i] = trans_matrix[i] - (filled_prob / games)\n",
    "        trans_matrix[i] = trans_matrix[i].fillna(alpha)\n",
    "        \n",
    "    return trans_matrix"
   ]
  },
  {
   "cell_type": "code",
   "execution_count": 14,
   "id": "6f1b64e4",
   "metadata": {},
   "outputs": [],
   "source": [
    "def rank_teams(matrix, reps):\n",
    "    initial_prob = pd.DataFrame(1/len(matrix), index=matrix.index, columns=['probability'])\n",
    "    vector = matrix @ initial_prob\n",
    "    for i in range(reps-1):\n",
    "        vector = matrix @ vector\n",
    "    return vector.sort_values('probability', ascending=False)"
   ]
  },
  {
   "cell_type": "markdown",
   "id": "cee6b643",
   "metadata": {},
   "source": [
    "# 5. Ranking"
   ]
  },
  {
   "cell_type": "code",
   "execution_count": 15,
   "id": "dcc0a4e1",
   "metadata": {},
   "outputs": [
    {
     "data": {
      "text/html": [
       "<div>\n",
       "<style scoped>\n",
       "    .dataframe tbody tr th:only-of-type {\n",
       "        vertical-align: middle;\n",
       "    }\n",
       "\n",
       "    .dataframe tbody tr th {\n",
       "        vertical-align: top;\n",
       "    }\n",
       "\n",
       "    .dataframe thead th {\n",
       "        text-align: right;\n",
       "    }\n",
       "</style>\n",
       "<table border=\"1\" class=\"dataframe\">\n",
       "  <thead>\n",
       "    <tr style=\"text-align: right;\">\n",
       "      <th></th>\n",
       "      <th>probability</th>\n",
       "    </tr>\n",
       "  </thead>\n",
       "  <tbody>\n",
       "    <tr>\n",
       "      <th>Louisiana State</th>\n",
       "      <td>0.023049</td>\n",
       "    </tr>\n",
       "    <tr>\n",
       "      <th>Georgia</th>\n",
       "      <td>0.017421</td>\n",
       "    </tr>\n",
       "    <tr>\n",
       "      <th>Clemson</th>\n",
       "      <td>0.016417</td>\n",
       "    </tr>\n",
       "    <tr>\n",
       "      <th>Ohio State</th>\n",
       "      <td>0.015161</td>\n",
       "    </tr>\n",
       "    <tr>\n",
       "      <th>Auburn</th>\n",
       "      <td>0.014154</td>\n",
       "    </tr>\n",
       "    <tr>\n",
       "      <th>Florida</th>\n",
       "      <td>0.013837</td>\n",
       "    </tr>\n",
       "    <tr>\n",
       "      <th>Oregon</th>\n",
       "      <td>0.013614</td>\n",
       "    </tr>\n",
       "    <tr>\n",
       "      <th>Penn State</th>\n",
       "      <td>0.013207</td>\n",
       "    </tr>\n",
       "    <tr>\n",
       "      <th>Wisconsin</th>\n",
       "      <td>0.012614</td>\n",
       "    </tr>\n",
       "    <tr>\n",
       "      <th>Michigan</th>\n",
       "      <td>0.011917</td>\n",
       "    </tr>\n",
       "    <tr>\n",
       "      <th>Alabama</th>\n",
       "      <td>0.011906</td>\n",
       "    </tr>\n",
       "    <tr>\n",
       "      <th>Minnesota</th>\n",
       "      <td>0.011815</td>\n",
       "    </tr>\n",
       "    <tr>\n",
       "      <th>Notre Dame</th>\n",
       "      <td>0.011804</td>\n",
       "    </tr>\n",
       "    <tr>\n",
       "      <th>Oklahoma</th>\n",
       "      <td>0.011328</td>\n",
       "    </tr>\n",
       "    <tr>\n",
       "      <th>Iowa</th>\n",
       "      <td>0.011113</td>\n",
       "    </tr>\n",
       "    <tr>\n",
       "      <th>Utah</th>\n",
       "      <td>0.011015</td>\n",
       "    </tr>\n",
       "    <tr>\n",
       "      <th>Memphis</th>\n",
       "      <td>0.010734</td>\n",
       "    </tr>\n",
       "    <tr>\n",
       "      <th>Texas A&amp;M</th>\n",
       "      <td>0.010521</td>\n",
       "    </tr>\n",
       "    <tr>\n",
       "      <th>Southern California</th>\n",
       "      <td>0.010310</td>\n",
       "    </tr>\n",
       "    <tr>\n",
       "      <th>Washington</th>\n",
       "      <td>0.009974</td>\n",
       "    </tr>\n",
       "    <tr>\n",
       "      <th>Texas</th>\n",
       "      <td>0.009968</td>\n",
       "    </tr>\n",
       "    <tr>\n",
       "      <th>Tennessee</th>\n",
       "      <td>0.009901</td>\n",
       "    </tr>\n",
       "    <tr>\n",
       "      <th>Cincinnati</th>\n",
       "      <td>0.009876</td>\n",
       "    </tr>\n",
       "    <tr>\n",
       "      <th>Baylor</th>\n",
       "      <td>0.009759</td>\n",
       "    </tr>\n",
       "    <tr>\n",
       "      <th>South Carolina</th>\n",
       "      <td>0.009637</td>\n",
       "    </tr>\n",
       "  </tbody>\n",
       "</table>\n",
       "</div>"
      ],
      "text/plain": [
       "                     probability\n",
       "Louisiana State         0.023049\n",
       "Georgia                 0.017421\n",
       "Clemson                 0.016417\n",
       "Ohio State              0.015161\n",
       "Auburn                  0.014154\n",
       "Florida                 0.013837\n",
       "Oregon                  0.013614\n",
       "Penn State              0.013207\n",
       "Wisconsin               0.012614\n",
       "Michigan                0.011917\n",
       "Alabama                 0.011906\n",
       "Minnesota               0.011815\n",
       "Notre Dame              0.011804\n",
       "Oklahoma                0.011328\n",
       "Iowa                    0.011113\n",
       "Utah                    0.011015\n",
       "Memphis                 0.010734\n",
       "Texas A&M               0.010521\n",
       "Southern California     0.010310\n",
       "Washington              0.009974\n",
       "Texas                   0.009968\n",
       "Tennessee               0.009901\n",
       "Cincinnati              0.009876\n",
       "Baylor                  0.009759\n",
       "South Carolina          0.009637"
      ]
     },
     "execution_count": 15,
     "metadata": {},
     "output_type": "execute_result"
    }
   ],
   "source": [
    "trans_matrix = matrix_maker(scores, 'Softmax', 0.000001)\n",
    "rank_teams(trans_matrix, 10000)[0:25]"
   ]
  },
  {
   "cell_type": "markdown",
   "id": "91e7a297",
   "metadata": {},
   "source": [
    "These rankings look pretty good for the most part! The biggest outlier is Auburn at 5. I think Auburn at 9-4 is ranked higher than they should be because I chose to use score differential. A majority of Auburn's wins are huge blowouts, winning by almost 40 at times, but their biggest loss is only by 11 and their other losses are all by 7 or less. If I mitigate the effect of blowout games in the future, we might not see Auburn so high, and the ranking will likely be more accurate."
   ]
  }
 ],
 "metadata": {
  "kernelspec": {
   "display_name": "Python 3",
   "language": "python",
   "name": "python3"
  },
  "language_info": {
   "codemirror_mode": {
    "name": "ipython",
    "version": 3
   },
   "file_extension": ".py",
   "mimetype": "text/x-python",
   "name": "python",
   "nbconvert_exporter": "python",
   "pygments_lexer": "ipython3",
   "version": "3.8.8"
  }
 },
 "nbformat": 4,
 "nbformat_minor": 5
}
