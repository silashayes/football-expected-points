{
 "cells": [
  {
   "cell_type": "code",
   "execution_count": 1,
   "id": "8d344c9f",
   "metadata": {
    "tags": []
   },
   "outputs": [],
   "source": [
    "import pandas as pd\n",
    "import numpy as np\n",
    "from scipy.special import softmax\n",
    "import scipy.stats as st"
   ]
  },
  {
   "cell_type": "markdown",
   "id": "64e8aaae",
   "metadata": {},
   "source": [
    "# 2. Markov Metaphor"
   ]
  },
  {
   "cell_type": "markdown",
   "id": "14d3acdb",
   "metadata": {},
   "source": [
    "I like to think of the Markov chain probabilities as the percentage of fans that leave one team for another after the two teams play. With that in mind, each game actually becomes two probabilities. One of the probabilities is the percentage of fans that left the losing team for the winning team, and the other, much lower, probability is the percentage of fans that left the winning team for the losing team. In this fashion, each game provides as much information as possible for the rankings. This is also easier to conceptualize than the Stanley Cup model that we talked about in class since the values in the transition matrix are, by necessity, probabilities and not binary like in the cup model. This also allows for the alpha values to be conceptualized more easily. For example, even though UVA may never play Oregon, there is a slight percentage of UVA fans who could leave UVA for Oregon on any given week/game and vice versa. The same is true for every single team combination, so our transition matrix reflects that."
   ]
  },
  {
   "cell_type": "markdown",
   "id": "bb87d25d",
   "metadata": {},
   "source": [
    "## Clean & Create Columns for Ranking"
   ]
  },
  {
   "cell_type": "code",
   "execution_count": 2,
   "id": "c47435d7",
   "metadata": {
    "tags": []
   },
   "outputs": [
    {
     "data": {
      "text/html": [
       "<div>\n",
       "<style scoped>\n",
       "    .dataframe tbody tr th:only-of-type {\n",
       "        vertical-align: middle;\n",
       "    }\n",
       "\n",
       "    .dataframe tbody tr th {\n",
       "        vertical-align: top;\n",
       "    }\n",
       "\n",
       "    .dataframe thead th {\n",
       "        text-align: right;\n",
       "    }\n",
       "</style>\n",
       "<table border=\"1\" class=\"dataframe\">\n",
       "  <thead>\n",
       "    <tr style=\"text-align: right;\">\n",
       "      <th></th>\n",
       "      <th>Winner</th>\n",
       "      <th>Pts_winner</th>\n",
       "      <th>X8</th>\n",
       "      <th>Loser</th>\n",
       "      <th>Pts_loser</th>\n",
       "    </tr>\n",
       "  </thead>\n",
       "  <tbody>\n",
       "    <tr>\n",
       "      <th>0</th>\n",
       "      <td>Florida</td>\n",
       "      <td>24</td>\n",
       "      <td>N</td>\n",
       "      <td>Miami (FL)</td>\n",
       "      <td>20</td>\n",
       "    </tr>\n",
       "    <tr>\n",
       "      <th>1</th>\n",
       "      <td>Hawaii</td>\n",
       "      <td>45</td>\n",
       "      <td>NaN</td>\n",
       "      <td>Arizona</td>\n",
       "      <td>38</td>\n",
       "    </tr>\n",
       "    <tr>\n",
       "      <th>2</th>\n",
       "      <td>Alabama-Birmingham</td>\n",
       "      <td>24</td>\n",
       "      <td>NaN</td>\n",
       "      <td>Alabama State</td>\n",
       "      <td>19</td>\n",
       "    </tr>\n",
       "    <tr>\n",
       "      <th>3</th>\n",
       "      <td>Arizona State</td>\n",
       "      <td>30</td>\n",
       "      <td>NaN</td>\n",
       "      <td>Kent State</td>\n",
       "      <td>7</td>\n",
       "    </tr>\n",
       "    <tr>\n",
       "      <th>4</th>\n",
       "      <td>Bowling Green State</td>\n",
       "      <td>46</td>\n",
       "      <td>NaN</td>\n",
       "      <td>Morgan State</td>\n",
       "      <td>3</td>\n",
       "    </tr>\n",
       "  </tbody>\n",
       "</table>\n",
       "</div>"
      ],
      "text/plain": [
       "                Winner  Pts_winner   X8          Loser  Pts_loser\n",
       "0              Florida          24    N     Miami (FL)         20\n",
       "1               Hawaii          45  NaN        Arizona         38\n",
       "2   Alabama-Birmingham          24  NaN  Alabama State         19\n",
       "3        Arizona State          30  NaN     Kent State          7\n",
       "4  Bowling Green State          46  NaN   Morgan State          3"
      ]
     },
     "execution_count": 2,
     "metadata": {},
     "output_type": "execute_result"
    }
   ],
   "source": [
    "scores = pd.read_csv('SB_box_scores_2019_without_rank.csv').drop(['Wk', 'Date', 'Rk', 'Time', 'Day', 'Notes'], axis=1)\n",
    "scores.head()"
   ]
  },
  {
   "cell_type": "code",
   "execution_count": 3,
   "id": "c44524cd",
   "metadata": {
    "tags": []
   },
   "outputs": [
    {
     "data": {
      "text/plain": [
       "X8\n",
       "@    287\n",
       "N     60\n",
       "Name: count, dtype: int64"
      ]
     },
     "execution_count": 3,
     "metadata": {},
     "output_type": "execute_result"
    }
   ],
   "source": [
    "scores.X8.value_counts()"
   ]
  },
  {
   "cell_type": "code",
   "execution_count": 4,
   "id": "19d866d7",
   "metadata": {
    "tags": []
   },
   "outputs": [
    {
     "data": {
      "text/plain": [
       "X8\n",
       "H    541\n",
       "A    287\n",
       "N     60\n",
       "Name: count, dtype: int64"
      ]
     },
     "execution_count": 4,
     "metadata": {},
     "output_type": "execute_result"
    }
   ],
   "source": [
    "#remap home, away, and neutral games\n",
    "scores['X8'] = scores.X8.map({'N':'N', '@':'A', np.nan:'H'})\n",
    "scores.X8.value_counts()"
   ]
  },
  {
   "cell_type": "code",
   "execution_count": 5,
   "id": "ce818c55",
   "metadata": {
    "tags": []
   },
   "outputs": [
    {
     "data": {
      "text/html": [
       "<div>\n",
       "<style scoped>\n",
       "    .dataframe tbody tr th:only-of-type {\n",
       "        vertical-align: middle;\n",
       "    }\n",
       "\n",
       "    .dataframe tbody tr th {\n",
       "        vertical-align: top;\n",
       "    }\n",
       "\n",
       "    .dataframe thead th {\n",
       "        text-align: right;\n",
       "    }\n",
       "</style>\n",
       "<table border=\"1\" class=\"dataframe\">\n",
       "  <thead>\n",
       "    <tr style=\"text-align: right;\">\n",
       "      <th></th>\n",
       "      <th>Winner</th>\n",
       "      <th>Pts_winner</th>\n",
       "      <th>X8</th>\n",
       "      <th>Loser</th>\n",
       "      <th>Pts_loser</th>\n",
       "    </tr>\n",
       "  </thead>\n",
       "  <tbody>\n",
       "    <tr>\n",
       "      <th>0</th>\n",
       "      <td>Florida</td>\n",
       "      <td>24</td>\n",
       "      <td>N</td>\n",
       "      <td>Miami (FL)</td>\n",
       "      <td>20</td>\n",
       "    </tr>\n",
       "    <tr>\n",
       "      <th>1</th>\n",
       "      <td>Hawaii</td>\n",
       "      <td>45</td>\n",
       "      <td>H</td>\n",
       "      <td>Arizona</td>\n",
       "      <td>38</td>\n",
       "    </tr>\n",
       "    <tr>\n",
       "      <th>2</th>\n",
       "      <td>Alabama-Birmingham</td>\n",
       "      <td>24</td>\n",
       "      <td>H</td>\n",
       "      <td>Alabama State</td>\n",
       "      <td>19</td>\n",
       "    </tr>\n",
       "    <tr>\n",
       "      <th>3</th>\n",
       "      <td>Arizona State</td>\n",
       "      <td>30</td>\n",
       "      <td>H</td>\n",
       "      <td>Kent State</td>\n",
       "      <td>7</td>\n",
       "    </tr>\n",
       "    <tr>\n",
       "      <th>4</th>\n",
       "      <td>Bowling Green State</td>\n",
       "      <td>46</td>\n",
       "      <td>H</td>\n",
       "      <td>Morgan State</td>\n",
       "      <td>3</td>\n",
       "    </tr>\n",
       "  </tbody>\n",
       "</table>\n",
       "</div>"
      ],
      "text/plain": [
       "                Winner  Pts_winner X8          Loser  Pts_loser\n",
       "0              Florida          24  N     Miami (FL)         20\n",
       "1               Hawaii          45  H        Arizona         38\n",
       "2   Alabama-Birmingham          24  H  Alabama State         19\n",
       "3        Arizona State          30  H     Kent State          7\n",
       "4  Bowling Green State          46  H   Morgan State          3"
      ]
     },
     "execution_count": 5,
     "metadata": {},
     "output_type": "execute_result"
    }
   ],
   "source": [
    "scores.head()"
   ]
  },
  {
   "cell_type": "code",
   "execution_count": 16,
   "id": "cc6a1e0d",
   "metadata": {
    "tags": []
   },
   "outputs": [
    {
     "data": {
      "text/plain": [
       "217"
      ]
     },
     "execution_count": 16,
     "metadata": {},
     "output_type": "execute_result"
    }
   ],
   "source": [
    "#get a list of teams\n",
    "teams = pd.Series(list(scores.Winner.unique()) + list(scores.Loser.unique())).unique()\n",
    "len(teams)"
   ]
  },
  {
   "cell_type": "markdown",
   "id": "f64f3324",
   "metadata": {},
   "source": [
    "# 3. Calculating Probabilities"
   ]
  },
  {
   "cell_type": "markdown",
   "id": "580c19c7",
   "metadata": {},
   "source": [
    "I have chosen to calculate my probabilities based on the score differential of each game. This does come with some imperfections. The main two that I would take into account in the future are blowout games and home and away status. Blowout games can result in very different probabilities of victory in a model based on score differential as a game won by 52 is valued a lot more than a game won by 42, even though both are sure victories. Potentially introducing a cap on score differential might alleviate this, or transforming score differential with a log function or an exponential function with a power less than 1 could as well. If I had more time, I would also like to factor home and away status into the calculation somehow, as teams have an advantage at home and the rankings should reflect that."
   ]
  },
  {
   "cell_type": "code",
   "execution_count": 17,
   "id": "4f81e056",
   "metadata": {
    "tags": []
   },
   "outputs": [],
   "source": [
    "#get the score differential of each game\n",
    "scores['Score_diff'] = scores['Pts_winner'] - scores['Pts_loser']"
   ]
  },
  {
   "cell_type": "code",
   "execution_count": 18,
   "id": "118f3b35",
   "metadata": {
    "tags": []
   },
   "outputs": [
    {
     "data": {
      "text/plain": [
       "<Axes: >"
      ]
     },
     "execution_count": 18,
     "metadata": {},
     "output_type": "execute_result"
    },
    {
     "data": {
      "image/png": "[encoded data removed]",
      "text/plain": [
       "<Figure size 640x480 with 1 Axes>"
      ]
     },
     "metadata": {},
     "output_type": "display_data"
    }
   ],
   "source": [
    "scores.Score_diff.hist()"
   ]
  },
  {
   "cell_type": "code",
   "execution_count": 19,
   "id": "146cc7f4",
   "metadata": {
    "tags": []
   },
   "outputs": [],
   "source": [
    "#obtain the two values that we will use to calculate our probabilities\n",
    "scores['Softmax'] = softmax(scores.Score_diff)\n",
    "scores['Prop'] = scores.Score_diff / sum(scores.Score_diff)"
   ]
  },
  {
   "cell_type": "code",
   "execution_count": 20,
   "id": "8e8b0cb0",
   "metadata": {
    "tags": []
   },
   "outputs": [
    {
     "data": {
      "text/html": [
       "<div>\n",
       "<style scoped>\n",
       "    .dataframe tbody tr th:only-of-type {\n",
       "        vertical-align: middle;\n",
       "    }\n",
       "\n",
       "    .dataframe tbody tr th {\n",
       "        vertical-align: top;\n",
       "    }\n",
       "\n",
       "    .dataframe thead th {\n",
       "        text-align: right;\n",
       "    }\n",
       "</style>\n",
       "<table border=\"1\" class=\"dataframe\">\n",
       "  <thead>\n",
       "    <tr style=\"text-align: right;\">\n",
       "      <th></th>\n",
       "      <th>Winner</th>\n",
       "      <th>Pts_winner</th>\n",
       "      <th>X8</th>\n",
       "      <th>Loser</th>\n",
       "      <th>Pts_loser</th>\n",
       "      <th>Score_diff</th>\n",
       "      <th>Softmax</th>\n",
       "      <th>Prop</th>\n",
       "    </tr>\n",
       "  </thead>\n",
       "  <tbody>\n",
       "    <tr>\n",
       "      <th>0</th>\n",
       "      <td>Florida</td>\n",
       "      <td>24</td>\n",
       "      <td>N</td>\n",
       "      <td>Miami (FL)</td>\n",
       "      <td>20</td>\n",
       "      <td>4</td>\n",
       "      <td>2.673508e-33</td>\n",
       "      <td>0.000236</td>\n",
       "    </tr>\n",
       "    <tr>\n",
       "      <th>1</th>\n",
       "      <td>Hawaii</td>\n",
       "      <td>45</td>\n",
       "      <td>H</td>\n",
       "      <td>Arizona</td>\n",
       "      <td>38</td>\n",
       "      <td>7</td>\n",
       "      <td>5.369884e-32</td>\n",
       "      <td>0.000412</td>\n",
       "    </tr>\n",
       "    <tr>\n",
       "      <th>2</th>\n",
       "      <td>Alabama-Birmingham</td>\n",
       "      <td>24</td>\n",
       "      <td>H</td>\n",
       "      <td>Alabama State</td>\n",
       "      <td>19</td>\n",
       "      <td>5</td>\n",
       "      <td>7.267347e-33</td>\n",
       "      <td>0.000295</td>\n",
       "    </tr>\n",
       "    <tr>\n",
       "      <th>3</th>\n",
       "      <td>Arizona State</td>\n",
       "      <td>30</td>\n",
       "      <td>H</td>\n",
       "      <td>Kent State</td>\n",
       "      <td>7</td>\n",
       "      <td>23</td>\n",
       "      <td>4.771738e-25</td>\n",
       "      <td>0.001355</td>\n",
       "    </tr>\n",
       "    <tr>\n",
       "      <th>4</th>\n",
       "      <td>Bowling Green State</td>\n",
       "      <td>46</td>\n",
       "      <td>H</td>\n",
       "      <td>Morgan State</td>\n",
       "      <td>3</td>\n",
       "      <td>43</td>\n",
       "      <td>2.315081e-16</td>\n",
       "      <td>0.002534</td>\n",
       "    </tr>\n",
       "  </tbody>\n",
       "</table>\n",
       "</div>"
      ],
      "text/plain": [
       "                Winner  Pts_winner X8          Loser  Pts_loser  Score_diff  \\\n",
       "0              Florida          24  N     Miami (FL)         20           4   \n",
       "1               Hawaii          45  H        Arizona         38           7   \n",
       "2   Alabama-Birmingham          24  H  Alabama State         19           5   \n",
       "3        Arizona State          30  H     Kent State          7          23   \n",
       "4  Bowling Green State          46  H   Morgan State          3          43   \n",
       "\n",
       "        Softmax      Prop  \n",
       "0  2.673508e-33  0.000236  \n",
       "1  5.369884e-32  0.000412  \n",
       "2  7.267347e-33  0.000295  \n",
       "3  4.771738e-25  0.001355  \n",
       "4  2.315081e-16  0.002534  "
      ]
     },
     "execution_count": 20,
     "metadata": {},
     "output_type": "execute_result"
    }
   ],
   "source": [
    "scores.head(5)"
   ]
  },
  {
   "cell_type": "code",
   "execution_count": 21,
   "id": "db5f8fcf",
   "metadata": {
    "tags": []
   },
   "outputs": [
    {
     "name": "stdout",
     "output_type": "stream",
     "text": [
      "count    8.880000e+02\n",
      "mean     1.126126e-03\n",
      "std      3.349349e-02\n",
      "min      1.331061e-34\n",
      "25%      5.369884e-32\n",
      "50%      4.351262e-28\n",
      "75%      1.925056e-22\n",
      "max      9.980851e-01\n",
      "Name: Softmax, dtype: float64\n"
     ]
    },
    {
     "data": {
      "text/plain": [
       "<Axes: >"
      ]
     },
     "execution_count": 21,
     "metadata": {},
     "output_type": "execute_result"
    },
    {
     "data": {
      "image/png": "[encoded data removed]",
      "text/plain": [
       "<Figure size 640x480 with 1 Axes>"
      ]
     },
     "metadata": {},
     "output_type": "display_data"
    }
   ],
   "source": [
    "print(scores.Softmax.describe())\n",
    "scores.Softmax.hist(bins=10)"
   ]
  },
  {
   "cell_type": "code",
   "execution_count": 22,
   "id": "b1d9c96b",
   "metadata": {
    "tags": []
   },
   "outputs": [
    {
     "name": "stdout",
     "output_type": "stream",
     "text": [
      "count    888.000000\n",
      "mean       0.001126\n",
      "std        0.000881\n",
      "min        0.000059\n",
      "25%        0.000412\n",
      "50%        0.000943\n",
      "75%        0.001709\n",
      "max        0.004655\n",
      "Name: Prop, dtype: float64\n"
     ]
    },
    {
     "data": {
      "text/plain": [
       "<Axes: >"
      ]
     },
     "execution_count": 22,
     "metadata": {},
     "output_type": "execute_result"
    },
    {
     "data": {
      "image/png": "[encoded data removed]",
      "text/plain": [
       "<Figure size 640x480 with 1 Axes>"
      ]
     },
     "metadata": {},
     "output_type": "display_data"
    }
   ],
   "source": [
    "print(scores.Prop.describe())\n",
    "scores.Prop.hist(bins=20)"
   ]
  },
  {
   "cell_type": "markdown",
   "id": "55b7ed17",
   "metadata": {},
   "source": [
    "# 3 & 4. Calculating Probabilities & Irreducibility"
   ]
  },
  {
   "cell_type": "markdown",
   "id": "f85eacc1",
   "metadata": {},
   "source": [
    "The code below actually calculates the transition matrix probabilities based on either the score differential proportion or the score differential softmax values. It then places an alpha value of your choice in every matchup for which we do not have information. This ensures that the transition matrix will be able to reach a steady state and won't enter into a loop, making it irreducible."
   ]
  },
  {
   "cell_type": "markdown",
   "id": "a23a2ce6",
   "metadata": {},
   "source": [
    "## Functions for Ranking Calculation"
   ]
  },
  {
   "cell_type": "code",
   "execution_count": 23,
   "id": "a16546ba",
   "metadata": {
    "tags": []
   },
   "outputs": [],
   "source": [
    "def matrix_maker(df, col, alpha):\n",
    "    #create an empty matrix\n",
    "    trans_matrix = pd.DataFrame(np.nan, index=teams, columns=teams)\n",
    "    #obtain the z score of each value in order to slightly normalize the rankings\n",
    "    z = st.zscore(df[col])\n",
    "    #calculate the cdf of the z scores to get a probability of victory, divide by 2\n",
    "    z_probs = st.norm.cdf(z) / 2\n",
    "    df['z_probs'] = z_probs\n",
    "    \n",
    "    #input the above probability of victory and its complement into the correct locations, ensuring the winner's\n",
    "    #probability is above .5 while the loser's is below .5\n",
    "    for i, row in df.iterrows():\n",
    "        trans_matrix.loc[row.Winner, row.Loser] = 0.5 + row.z_probs\n",
    "        trans_matrix.loc[row.Loser, row.Winner] = 1 - (row.z_probs + 0.5)\n",
    "    \n",
    "    #normalize the matrix so each column sums to 1\n",
    "    for i in trans_matrix:\n",
    "        trans_matrix[i] = trans_matrix[i] / trans_matrix[i].sum(axis=0)\n",
    "\n",
    "    teams_n = len(df)\n",
    "    \n",
    "    #input our alpha values into the matrix\n",
    "    for i in trans_matrix:\n",
    "        team = trans_matrix[i]\n",
    "        #how many games have to get probabilities? how many don't?\n",
    "        to_fill = sum(team.isna())\n",
    "        games = sum(team.notnull())\n",
    "        #how much probability will we give to other games?\n",
    "        filled_prob = alpha * to_fill\n",
    "        #subtract how much you filled from the games that you didn't have to fill in equal proportion\n",
    "        trans_matrix[i] = trans_matrix[i] - (filled_prob / games)\n",
    "        trans_matrix[i] = trans_matrix[i].fillna(alpha)\n",
    "        \n",
    "    return trans_matrix"
   ]
  },
  {
   "cell_type": "code",
   "execution_count": 43,
   "id": "6f1b64e4",
   "metadata": {
    "tags": []
   },
   "outputs": [],
   "source": [
    "def rank_teams(matrix, reps):\n",
    "    initial_prob = pd.DataFrame(1/len(matrix), index=matrix.index, columns=['probability'])\n",
    "    vector = matrix @ initial_prob\n",
    "    for i in range(reps-1):\n",
    "        vector = matrix @ vector\n",
    "    rank_probs = vector.sort_values('probability', ascending=False).reset_index()\n",
    "    rank_probs['New Rank'] = range(1, len(rank_probs)+1)\n",
    "    return rank_probs"
   ]
  },
  {
   "cell_type": "markdown",
   "id": "cee6b643",
   "metadata": {},
   "source": [
    "# 5. Ranking"
   ]
  },
  {
   "cell_type": "code",
   "execution_count": 54,
   "id": "dcc0a4e1",
   "metadata": {
    "tags": []
   },
   "outputs": [],
   "source": [
    "trans_matrix = matrix_maker(scores, 'Softmax', 0.000001)\n",
    "new_ranking = rank_teams(trans_matrix, 10000)#[0:25]\n",
    "original_rank = pd.DataFrame({'Team': ['Louisiana State',\n",
    "                                      'Clemson',\n",
    "                                       'Ohio State',\n",
    "                                       'Georgia',\n",
    "                                       'Oregon',\n",
    "                                       'Florida',\n",
    "                                       'Oklahoma',\n",
    "                                       'Alabama',\n",
    "                                       'Penn State',\n",
    "                                       'Minnesota',\n",
    "                                       'Wisconsin',\n",
    "                                       'Notre Dame',\n",
    "                                       'Baylor',\n",
    "                                       'Auburn',\n",
    "                                       'Iowa',\n",
    "                                       'Utah',\n",
    "                                       'Memphis',\n",
    "                                       'Michigan',\n",
    "                                       'Appalachian State',\n",
    "                                       'Navy',\n",
    "                                       'Cincinnati',\n",
    "                                       'Air Force', \n",
    "                                       'Boise State',\n",
    "                                       'Central Florida',\n",
    "                                       'Texas'\n",
    "                                      ],\n",
    "                              'AP Poll': list(range(1, 26))})"
   ]
  },
  {
   "cell_type": "code",
   "execution_count": 71,
   "id": "37f09fc5-f3a6-4653-b467-f3cee5cd40cc",
   "metadata": {
    "tags": []
   },
   "outputs": [
    {
     "data": {
      "text/html": [
       "<style type=\"text/css\">\n",
       "#T_44e03_row0_col3, #T_44e03_row5_col3, #T_44e03_row14_col3, #T_44e03_row15_col3, #T_44e03_row16_col3 {\n",
       "  background-color: #dddcdc;\n",
       "  color: #000000;\n",
       "}\n",
       "#T_44e03_row1_col3, #T_44e03_row8_col3 {\n",
       "  background-color: #e9d5cb;\n",
       "  color: #000000;\n",
       "}\n",
       "#T_44e03_row2_col3, #T_44e03_row3_col3, #T_44e03_row12_col3 {\n",
       "  background-color: #d6dce4;\n",
       "  color: #000000;\n",
       "}\n",
       "#T_44e03_row4_col3 {\n",
       "  background-color: #f6a385;\n",
       "  color: #000000;\n",
       "}\n",
       "#T_44e03_row6_col3, #T_44e03_row11_col3, #T_44e03_row18_col3 {\n",
       "  background-color: #cfdaea;\n",
       "  color: #000000;\n",
       "}\n",
       "#T_44e03_row7_col3 {\n",
       "  background-color: #e3d9d3;\n",
       "  color: #000000;\n",
       "}\n",
       "#T_44e03_row9_col3 {\n",
       "  background-color: #f7ac8e;\n",
       "  color: #000000;\n",
       "}\n",
       "#T_44e03_row10_col3 {\n",
       "  background-color: #c7d7f0;\n",
       "  color: #000000;\n",
       "}\n",
       "#T_44e03_row13_col3 {\n",
       "  background-color: #a7c5fe;\n",
       "  color: #000000;\n",
       "}\n",
       "#T_44e03_row17_col3 {\n",
       "  background-color: #f2cbb7;\n",
       "  color: #000000;\n",
       "}\n",
       "#T_44e03_row19_col3 {\n",
       "  background-color: #84a7fc;\n",
       "  color: #f1f1f1;\n",
       "}\n",
       "#T_44e03_row20_col3, #T_44e03_row21_col3 {\n",
       "  background-color: #9ebeff;\n",
       "  color: #000000;\n",
       "}\n",
       "#T_44e03_row22_col3 {\n",
       "  background-color: #6a8bef;\n",
       "  color: #f1f1f1;\n",
       "}\n",
       "#T_44e03_row23_col3 {\n",
       "  background-color: #3b4cc0;\n",
       "  color: #f1f1f1;\n",
       "}\n",
       "#T_44e03_row24_col3 {\n",
       "  background-color: #5977e3;\n",
       "  color: #f1f1f1;\n",
       "}\n",
       "</style>\n",
       "<table id=\"T_44e03\">\n",
       "  <thead>\n",
       "    <tr>\n",
       "      <th class=\"blank level0\" >&nbsp;</th>\n",
       "      <th id=\"T_44e03_level0_col0\" class=\"col_heading level0 col0\" >New Rank</th>\n",
       "      <th id=\"T_44e03_level0_col1\" class=\"col_heading level0 col1\" >probability</th>\n",
       "      <th id=\"T_44e03_level0_col2\" class=\"col_heading level0 col2\" >AP Poll</th>\n",
       "      <th id=\"T_44e03_level0_col3\" class=\"col_heading level0 col3\" >Difference</th>\n",
       "    </tr>\n",
       "    <tr>\n",
       "      <th class=\"index_name level0\" >Team</th>\n",
       "      <th class=\"blank col0\" >&nbsp;</th>\n",
       "      <th class=\"blank col1\" >&nbsp;</th>\n",
       "      <th class=\"blank col2\" >&nbsp;</th>\n",
       "      <th class=\"blank col3\" >&nbsp;</th>\n",
       "    </tr>\n",
       "  </thead>\n",
       "  <tbody>\n",
       "    <tr>\n",
       "      <th id=\"T_44e03_level0_row0\" class=\"row_heading level0 row0\" >Louisiana State</th>\n",
       "      <td id=\"T_44e03_row0_col0\" class=\"data row0 col0\" >1</td>\n",
       "      <td id=\"T_44e03_row0_col1\" class=\"data row0 col1\" >0.023049</td>\n",
       "      <td id=\"T_44e03_row0_col2\" class=\"data row0 col2\" >1</td>\n",
       "      <td id=\"T_44e03_row0_col3\" class=\"data row0 col3\" >0</td>\n",
       "    </tr>\n",
       "    <tr>\n",
       "      <th id=\"T_44e03_level0_row1\" class=\"row_heading level0 row1\" >Georgia</th>\n",
       "      <td id=\"T_44e03_row1_col0\" class=\"data row1 col0\" >2</td>\n",
       "      <td id=\"T_44e03_row1_col1\" class=\"data row1 col1\" >0.017421</td>\n",
       "      <td id=\"T_44e03_row1_col2\" class=\"data row1 col2\" >4</td>\n",
       "      <td id=\"T_44e03_row1_col3\" class=\"data row1 col3\" >2</td>\n",
       "    </tr>\n",
       "    <tr>\n",
       "      <th id=\"T_44e03_level0_row2\" class=\"row_heading level0 row2\" >Clemson</th>\n",
       "      <td id=\"T_44e03_row2_col0\" class=\"data row2 col0\" >3</td>\n",
       "      <td id=\"T_44e03_row2_col1\" class=\"data row2 col1\" >0.016417</td>\n",
       "      <td id=\"T_44e03_row2_col2\" class=\"data row2 col2\" >2</td>\n",
       "      <td id=\"T_44e03_row2_col3\" class=\"data row2 col3\" >-1</td>\n",
       "    </tr>\n",
       "    <tr>\n",
       "      <th id=\"T_44e03_level0_row3\" class=\"row_heading level0 row3\" >Ohio State</th>\n",
       "      <td id=\"T_44e03_row3_col0\" class=\"data row3 col0\" >4</td>\n",
       "      <td id=\"T_44e03_row3_col1\" class=\"data row3 col1\" >0.015161</td>\n",
       "      <td id=\"T_44e03_row3_col2\" class=\"data row3 col2\" >3</td>\n",
       "      <td id=\"T_44e03_row3_col3\" class=\"data row3 col3\" >-1</td>\n",
       "    </tr>\n",
       "    <tr>\n",
       "      <th id=\"T_44e03_level0_row4\" class=\"row_heading level0 row4\" >Auburn</th>\n",
       "      <td id=\"T_44e03_row4_col0\" class=\"data row4 col0\" >5</td>\n",
       "      <td id=\"T_44e03_row4_col1\" class=\"data row4 col1\" >0.014154</td>\n",
       "      <td id=\"T_44e03_row4_col2\" class=\"data row4 col2\" >14</td>\n",
       "      <td id=\"T_44e03_row4_col3\" class=\"data row4 col3\" >9</td>\n",
       "    </tr>\n",
       "    <tr>\n",
       "      <th id=\"T_44e03_level0_row5\" class=\"row_heading level0 row5\" >Florida</th>\n",
       "      <td id=\"T_44e03_row5_col0\" class=\"data row5 col0\" >6</td>\n",
       "      <td id=\"T_44e03_row5_col1\" class=\"data row5 col1\" >0.013837</td>\n",
       "      <td id=\"T_44e03_row5_col2\" class=\"data row5 col2\" >6</td>\n",
       "      <td id=\"T_44e03_row5_col3\" class=\"data row5 col3\" >0</td>\n",
       "    </tr>\n",
       "    <tr>\n",
       "      <th id=\"T_44e03_level0_row6\" class=\"row_heading level0 row6\" >Oregon</th>\n",
       "      <td id=\"T_44e03_row6_col0\" class=\"data row6 col0\" >7</td>\n",
       "      <td id=\"T_44e03_row6_col1\" class=\"data row6 col1\" >0.013614</td>\n",
       "      <td id=\"T_44e03_row6_col2\" class=\"data row6 col2\" >5</td>\n",
       "      <td id=\"T_44e03_row6_col3\" class=\"data row6 col3\" >-2</td>\n",
       "    </tr>\n",
       "    <tr>\n",
       "      <th id=\"T_44e03_level0_row7\" class=\"row_heading level0 row7\" >Penn State</th>\n",
       "      <td id=\"T_44e03_row7_col0\" class=\"data row7 col0\" >8</td>\n",
       "      <td id=\"T_44e03_row7_col1\" class=\"data row7 col1\" >0.013207</td>\n",
       "      <td id=\"T_44e03_row7_col2\" class=\"data row7 col2\" >9</td>\n",
       "      <td id=\"T_44e03_row7_col3\" class=\"data row7 col3\" >1</td>\n",
       "    </tr>\n",
       "    <tr>\n",
       "      <th id=\"T_44e03_level0_row8\" class=\"row_heading level0 row8\" >Wisconsin</th>\n",
       "      <td id=\"T_44e03_row8_col0\" class=\"data row8 col0\" >9</td>\n",
       "      <td id=\"T_44e03_row8_col1\" class=\"data row8 col1\" >0.012614</td>\n",
       "      <td id=\"T_44e03_row8_col2\" class=\"data row8 col2\" >11</td>\n",
       "      <td id=\"T_44e03_row8_col3\" class=\"data row8 col3\" >2</td>\n",
       "    </tr>\n",
       "    <tr>\n",
       "      <th id=\"T_44e03_level0_row9\" class=\"row_heading level0 row9\" >Michigan</th>\n",
       "      <td id=\"T_44e03_row9_col0\" class=\"data row9 col0\" >10</td>\n",
       "      <td id=\"T_44e03_row9_col1\" class=\"data row9 col1\" >0.011917</td>\n",
       "      <td id=\"T_44e03_row9_col2\" class=\"data row9 col2\" >18</td>\n",
       "      <td id=\"T_44e03_row9_col3\" class=\"data row9 col3\" >8</td>\n",
       "    </tr>\n",
       "    <tr>\n",
       "      <th id=\"T_44e03_level0_row10\" class=\"row_heading level0 row10\" >Alabama</th>\n",
       "      <td id=\"T_44e03_row10_col0\" class=\"data row10 col0\" >11</td>\n",
       "      <td id=\"T_44e03_row10_col1\" class=\"data row10 col1\" >0.011906</td>\n",
       "      <td id=\"T_44e03_row10_col2\" class=\"data row10 col2\" >8</td>\n",
       "      <td id=\"T_44e03_row10_col3\" class=\"data row10 col3\" >-3</td>\n",
       "    </tr>\n",
       "    <tr>\n",
       "      <th id=\"T_44e03_level0_row11\" class=\"row_heading level0 row11\" >Minnesota</th>\n",
       "      <td id=\"T_44e03_row11_col0\" class=\"data row11 col0\" >12</td>\n",
       "      <td id=\"T_44e03_row11_col1\" class=\"data row11 col1\" >0.011815</td>\n",
       "      <td id=\"T_44e03_row11_col2\" class=\"data row11 col2\" >10</td>\n",
       "      <td id=\"T_44e03_row11_col3\" class=\"data row11 col3\" >-2</td>\n",
       "    </tr>\n",
       "    <tr>\n",
       "      <th id=\"T_44e03_level0_row12\" class=\"row_heading level0 row12\" >Notre Dame</th>\n",
       "      <td id=\"T_44e03_row12_col0\" class=\"data row12 col0\" >13</td>\n",
       "      <td id=\"T_44e03_row12_col1\" class=\"data row12 col1\" >0.011804</td>\n",
       "      <td id=\"T_44e03_row12_col2\" class=\"data row12 col2\" >12</td>\n",
       "      <td id=\"T_44e03_row12_col3\" class=\"data row12 col3\" >-1</td>\n",
       "    </tr>\n",
       "    <tr>\n",
       "      <th id=\"T_44e03_level0_row13\" class=\"row_heading level0 row13\" >Oklahoma</th>\n",
       "      <td id=\"T_44e03_row13_col0\" class=\"data row13 col0\" >14</td>\n",
       "      <td id=\"T_44e03_row13_col1\" class=\"data row13 col1\" >0.011328</td>\n",
       "      <td id=\"T_44e03_row13_col2\" class=\"data row13 col2\" >7</td>\n",
       "      <td id=\"T_44e03_row13_col3\" class=\"data row13 col3\" >-7</td>\n",
       "    </tr>\n",
       "    <tr>\n",
       "      <th id=\"T_44e03_level0_row14\" class=\"row_heading level0 row14\" >Iowa</th>\n",
       "      <td id=\"T_44e03_row14_col0\" class=\"data row14 col0\" >15</td>\n",
       "      <td id=\"T_44e03_row14_col1\" class=\"data row14 col1\" >0.011113</td>\n",
       "      <td id=\"T_44e03_row14_col2\" class=\"data row14 col2\" >15</td>\n",
       "      <td id=\"T_44e03_row14_col3\" class=\"data row14 col3\" >0</td>\n",
       "    </tr>\n",
       "    <tr>\n",
       "      <th id=\"T_44e03_level0_row15\" class=\"row_heading level0 row15\" >Utah</th>\n",
       "      <td id=\"T_44e03_row15_col0\" class=\"data row15 col0\" >16</td>\n",
       "      <td id=\"T_44e03_row15_col1\" class=\"data row15 col1\" >0.011015</td>\n",
       "      <td id=\"T_44e03_row15_col2\" class=\"data row15 col2\" >16</td>\n",
       "      <td id=\"T_44e03_row15_col3\" class=\"data row15 col3\" >0</td>\n",
       "    </tr>\n",
       "    <tr>\n",
       "      <th id=\"T_44e03_level0_row16\" class=\"row_heading level0 row16\" >Memphis</th>\n",
       "      <td id=\"T_44e03_row16_col0\" class=\"data row16 col0\" >17</td>\n",
       "      <td id=\"T_44e03_row16_col1\" class=\"data row16 col1\" >0.010734</td>\n",
       "      <td id=\"T_44e03_row16_col2\" class=\"data row16 col2\" >17</td>\n",
       "      <td id=\"T_44e03_row16_col3\" class=\"data row16 col3\" >0</td>\n",
       "    </tr>\n",
       "    <tr>\n",
       "      <th id=\"T_44e03_level0_row17\" class=\"row_heading level0 row17\" >Texas</th>\n",
       "      <td id=\"T_44e03_row17_col0\" class=\"data row17 col0\" >21</td>\n",
       "      <td id=\"T_44e03_row17_col1\" class=\"data row17 col1\" >0.009968</td>\n",
       "      <td id=\"T_44e03_row17_col2\" class=\"data row17 col2\" >25</td>\n",
       "      <td id=\"T_44e03_row17_col3\" class=\"data row17 col3\" >4</td>\n",
       "    </tr>\n",
       "    <tr>\n",
       "      <th id=\"T_44e03_level0_row18\" class=\"row_heading level0 row18\" >Cincinnati</th>\n",
       "      <td id=\"T_44e03_row18_col0\" class=\"data row18 col0\" >23</td>\n",
       "      <td id=\"T_44e03_row18_col1\" class=\"data row18 col1\" >0.009876</td>\n",
       "      <td id=\"T_44e03_row18_col2\" class=\"data row18 col2\" >21</td>\n",
       "      <td id=\"T_44e03_row18_col3\" class=\"data row18 col3\" >-2</td>\n",
       "    </tr>\n",
       "    <tr>\n",
       "      <th id=\"T_44e03_level0_row19\" class=\"row_heading level0 row19\" >Baylor</th>\n",
       "      <td id=\"T_44e03_row19_col0\" class=\"data row19 col0\" >24</td>\n",
       "      <td id=\"T_44e03_row19_col1\" class=\"data row19 col1\" >0.009759</td>\n",
       "      <td id=\"T_44e03_row19_col2\" class=\"data row19 col2\" >13</td>\n",
       "      <td id=\"T_44e03_row19_col3\" class=\"data row19 col3\" >-11</td>\n",
       "    </tr>\n",
       "    <tr>\n",
       "      <th id=\"T_44e03_level0_row20\" class=\"row_heading level0 row20\" >Navy</th>\n",
       "      <td id=\"T_44e03_row20_col0\" class=\"data row20 col0\" >28</td>\n",
       "      <td id=\"T_44e03_row20_col1\" class=\"data row20 col1\" >0.009475</td>\n",
       "      <td id=\"T_44e03_row20_col2\" class=\"data row20 col2\" >20</td>\n",
       "      <td id=\"T_44e03_row20_col3\" class=\"data row20 col3\" >-8</td>\n",
       "    </tr>\n",
       "    <tr>\n",
       "      <th id=\"T_44e03_level0_row21\" class=\"row_heading level0 row21\" >Boise State</th>\n",
       "      <td id=\"T_44e03_row21_col0\" class=\"data row21 col0\" >31</td>\n",
       "      <td id=\"T_44e03_row21_col1\" class=\"data row21 col1\" >0.009149</td>\n",
       "      <td id=\"T_44e03_row21_col2\" class=\"data row21 col2\" >23</td>\n",
       "      <td id=\"T_44e03_row21_col3\" class=\"data row21 col3\" >-8</td>\n",
       "    </tr>\n",
       "    <tr>\n",
       "      <th id=\"T_44e03_level0_row22\" class=\"row_heading level0 row22\" >Air Force</th>\n",
       "      <td id=\"T_44e03_row22_col0\" class=\"data row22 col0\" >36</td>\n",
       "      <td id=\"T_44e03_row22_col1\" class=\"data row22 col1\" >0.008528</td>\n",
       "      <td id=\"T_44e03_row22_col2\" class=\"data row22 col2\" >22</td>\n",
       "      <td id=\"T_44e03_row22_col3\" class=\"data row22 col3\" >-14</td>\n",
       "    </tr>\n",
       "    <tr>\n",
       "      <th id=\"T_44e03_level0_row23\" class=\"row_heading level0 row23\" >Appalachian State</th>\n",
       "      <td id=\"T_44e03_row23_col0\" class=\"data row23 col0\" >39</td>\n",
       "      <td id=\"T_44e03_row23_col1\" class=\"data row23 col1\" >0.008275</td>\n",
       "      <td id=\"T_44e03_row23_col2\" class=\"data row23 col2\" >19</td>\n",
       "      <td id=\"T_44e03_row23_col3\" class=\"data row23 col3\" >-20</td>\n",
       "    </tr>\n",
       "    <tr>\n",
       "      <th id=\"T_44e03_level0_row24\" class=\"row_heading level0 row24\" >Central Florida</th>\n",
       "      <td id=\"T_44e03_row24_col0\" class=\"data row24 col0\" >40</td>\n",
       "      <td id=\"T_44e03_row24_col1\" class=\"data row24 col1\" >0.008149</td>\n",
       "      <td id=\"T_44e03_row24_col2\" class=\"data row24 col2\" >24</td>\n",
       "      <td id=\"T_44e03_row24_col3\" class=\"data row24 col3\" >-16</td>\n",
       "    </tr>\n",
       "  </tbody>\n",
       "</table>\n"
      ],
      "text/plain": [
       "<pandas.io.formats.style.Styler at 0x17daa3550>"
      ]
     },
     "execution_count": 71,
     "metadata": {},
     "output_type": "execute_result"
    }
   ],
   "source": [
    "rankings = pd.merge(new_ranking, original_rank, left_on='index', right_on='Team', how='right')\\\n",
    "    .drop('index', axis=1)[['Team', 'New Rank', 'probability', 'AP Poll']]\\\n",
    "    .set_index('Team').sort_values('New Rank')\n",
    "\n",
    "rankings['Difference'] = rankings['AP Poll'] - rankings['New Rank']\n",
    "rankings.style.background_gradient(axis=0, subset=['Difference'], cmap='coolwarm',\n",
    "                                   vmin=-max(abs(rankings['Difference'].min()), abs(rankings['Difference'].max())),\n",
    "                                   vmax=max(abs(rankings['Difference'].min()), abs(rankings['Difference'].max())))"
   ]
  },
  {
   "cell_type": "markdown",
   "id": "91e7a297",
   "metadata": {},
   "source": [
    "These rankings look pretty good for the most part! The biggest outlier is Auburn at 5. I think Auburn at 9-4 is ranked higher than they should be because I chose to use score differential. A majority of Auburn's wins are huge blowouts, winning by almost 40 at times, but their biggest loss is only by 11 and their other losses are all by 7 or less. If I mitigate the effect of blowout games in the future, we might not see Auburn so high, and the ranking will likely be more accurate."
   ]
  }
 ],
 "metadata": {
  "kernelspec": {
   "display_name": "Python 3 (ipykernel)",
   "language": "python",
   "name": "python3"
  },
  "language_info": {
   "codemirror_mode": {
    "name": "ipython",
    "version": 3
   },
   "file_extension": ".py",
   "mimetype": "text/x-python",
   "name": "python",
   "nbconvert_exporter": "python",
   "pygments_lexer": "ipython3",
   "version": "3.11.4"
  }
 },
 "nbformat": 4,
 "nbformat_minor": 5
}
