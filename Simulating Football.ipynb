{
 "cells": [
  {
   "cell_type": "code",
   "execution_count": 2,
   "id": "243f57db",
   "metadata": {},
   "outputs": [],
   "source": [
    "import pandas as pd\n",
    "import numpy as np\n",
    "from scipy.stats import bernoulli"
   ]
  },
  {
   "cell_type": "code",
   "execution_count": 3,
   "id": "625aac72",
   "metadata": {},
   "outputs": [],
   "source": [
    "def simulate_FG(x):\n",
    "    \"\"\"Simulate a field goal given a state x in the form of a list, where item 0 is the Down,\n",
    "    item 1 the field position,item 2 the yards to go, and item 3 the possession (-1 or 1).\n",
    "    Return an updated state based on whether or not the field goal was successful\"\"\"\n",
    "    D = x[0]\n",
    "    YTG = x[1]\n",
    "    FP = x[2]\n",
    "    POS = x[3]\n",
    "    kick_length = 100 - FP + 17\n",
    "    log_odds = 4.24924442 -0.08634778 * kick_length\n",
    "    prob = np.exp(log_odds) / (1 + np.exp(log_odds))\n",
    "    made = bernoulli.rvs(prob, 0)\n",
    "    if made == 1:\n",
    "        return [0, 0, 110, POS]\n",
    "    else:\n",
    "        return [1, 10, np.round(100 - (FP - 7), 2), POS*-1]"
   ]
  },
  {
   "cell_type": "code",
   "execution_count": 13,
   "id": "5f0247ad",
   "metadata": {},
   "outputs": [],
   "source": [
    "def FG_attempt(x):\n",
    "    \"\"\"Simulate whether a field goal gets taken given a state x in the form of a list, where\n",
    "    item 0 is the Down, item 1 the field position,item 2 the yards to go, and item 3 the\n",
    "    possession (-1 or 1). Return 0 for go for it and 1 for kick a field goal.\"\"\"\n",
    "    D = x[0]\n",
    "    YTG = x[1]\n",
    "    FP = x[2]\n",
    "    POS = x[3]\n",
    "    log_odds = -0.13841007 - 0.01402377*FP - 1.03702422*YTG + 0.0168093*(YTG*FP)\n",
    "    prob = np.exp(log_odds) / (1 + np.exp(log_odds))\n",
    "    attempt = bernoulli.rvs(prob, 0)\n",
    "    return bool(attempt)"
   ]
  },
  {
   "cell_type": "code",
   "execution_count": 5,
   "id": "047c5ce2",
   "metadata": {},
   "outputs": [
    {
     "data": {
      "text/plain": [
       "[0, 0, 110, 1]"
      ]
     },
     "execution_count": 5,
     "metadata": {},
     "output_type": "execute_result"
    }
   ],
   "source": [
    "simulate_FG([4, 10, 80, 1])"
   ]
  },
  {
   "cell_type": "code",
   "execution_count": 6,
   "id": "dc48dc50",
   "metadata": {},
   "outputs": [],
   "source": [
    "def simulate_play(x):\n",
    "    \"\"\"Simulate a play given a state x in the form of a list, where item 0 is the Down,\n",
    "    item 1 the field position, item 2 the yards to go, and item 3 the possession (-1 or 1).\n",
    "    Return an updated state based on a simulated yards gained\"\"\"\n",
    "    gained = np.random.normal(3.5, 2) #mean, stddev\n",
    "    D = x[0]\n",
    "    YTG = x[1]\n",
    "    FP = x[2]\n",
    "    POS = x[3]\n",
    "    FP = np.round(FP + gained, 2)\n",
    "    YTG = np.round(YTG - gained, 2)\n",
    "    \n",
    "    if ((D == 4) and (x[2])) >= 65 and FG_attempt([x[0], x[1], x[2], x[3]]):\n",
    "        #check if we're in a field goal state, simulate field goal\n",
    "        return simulate_FG(x)\n",
    "    elif FP >= 100:\n",
    "        #check for a touchdown, if it's a touchdown return the touchdown state:\n",
    "        return [0, 0, 100, POS]\n",
    "    elif YTG <= 0:\n",
    "        #check for a first down, if it's a first down reset the down and yards to go\n",
    "        D = 1\n",
    "        YTG = 10\n",
    "    elif D == 4:\n",
    "        #turnover on downs, so change possession and switch the field position\n",
    "        POS *= -1\n",
    "        FP = np.round(100 - FP, 2)\n",
    "        YTG = 10\n",
    "        D = 1\n",
    "    else:\n",
    "        D += 1\n",
    "        \n",
    "    return [D, YTG, FP, POS]\n",
    "    "
   ]
  },
  {
   "cell_type": "code",
   "execution_count": 7,
   "id": "d7e1ab75",
   "metadata": {},
   "outputs": [
    {
     "data": {
      "text/plain": [
       "[1, 10, 27, -1]"
      ]
     },
     "execution_count": 7,
     "metadata": {},
     "output_type": "execute_result"
    }
   ],
   "source": [
    "simulate_play([4, 10, 80, 1])"
   ]
  },
  {
   "cell_type": "code",
   "execution_count": 8,
   "id": "0339628f",
   "metadata": {},
   "outputs": [],
   "source": [
    "def simulate_football(D, YTG, FP, POS):\n",
    "    state = [D, YTG, FP, POS]\n",
    "    state = simulate_play(state)\n",
    "    #while state is not a touchdown, keep running plays but once in the touchdown\n",
    "    #state return 7 or -7\n",
    "    while state[0] != 0:\n",
    "        state = simulate_play(state) \n",
    "    \n",
    "    if state[2] == 100:\n",
    "        return state[3] * 7\n",
    "    elif state[2] == 110:\n",
    "        return state[3] * 3\n",
    "    "
   ]
  },
  {
   "cell_type": "code",
   "execution_count": 9,
   "id": "7070a1fc",
   "metadata": {},
   "outputs": [
    {
     "data": {
      "text/plain": [
       "7"
      ]
     },
     "execution_count": 9,
     "metadata": {},
     "output_type": "execute_result"
    }
   ],
   "source": [
    "simulate_football(1, 10, 25, 1)"
   ]
  },
  {
   "cell_type": "code",
   "execution_count": 10,
   "id": "c702fc8b",
   "metadata": {},
   "outputs": [],
   "source": [
    "def expected_points(state, reps):\n",
    "    scores = []\n",
    "    D = state[0]\n",
    "    YTG = state[1]\n",
    "    FP = state[2]\n",
    "    POS = state[3]\n",
    "    for i in range(reps):\n",
    "        score = simulate_football(D, YTG, FP, POS)\n",
    "        scores.append(score)\n",
    "\n",
    "    return np.mean(scores)"
   ]
  },
  {
   "cell_type": "code",
   "execution_count": 11,
   "id": "6a9820fc",
   "metadata": {},
   "outputs": [
    {
     "data": {
      "text/plain": [
       "0.6338"
      ]
     },
     "execution_count": 11,
     "metadata": {},
     "output_type": "execute_result"
    }
   ],
   "source": [
    "expected_points([1, 10, 25, 1], 10000)"
   ]
  },
  {
   "cell_type": "code",
   "execution_count": null,
   "id": "4b7ccf9e",
   "metadata": {},
   "outputs": [],
   "source": []
  }
 ],
 "metadata": {
  "kernelspec": {
   "display_name": "Python 3",
   "language": "python",
   "name": "python3"
  },
  "language_info": {
   "codemirror_mode": {
    "name": "ipython",
    "version": 3
   },
   "file_extension": ".py",
   "mimetype": "text/x-python",
   "name": "python",
   "nbconvert_exporter": "python",
   "pygments_lexer": "ipython3",
   "version": "3.8.8"
  }
 },
 "nbformat": 4,
 "nbformat_minor": 5
}
